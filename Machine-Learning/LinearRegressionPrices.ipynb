{
 "cells": [
  {
   "cell_type": "markdown",
   "metadata": {},
   "source": [
    "# Smartphone Price model  using Linear Regression"
   ]
  },
  {
   "cell_type": "markdown",
   "metadata": {},
   "source": [
    "## Credit \n",
    "1) The Dataset was downloaded from Kaggle *Mobile Phones Specifications and Prices in Kenya*  https://www.kaggle.com/datasets/lyraxvinns/mobile-phones-specifications-and-prices-in-kenya\n"
   ]
  },
  {
   "cell_type": "markdown",
   "metadata": {},
   "source": [
    "# Step 1: Import the basic libraries"
   ]
  },
  {
   "cell_type": "code",
   "execution_count": 1,
   "metadata": {},
   "outputs": [],
   "source": [
    "import numpy as np\n",
    "import matplotlib.pyplot as plt\n",
    "import seaborn as sns"
   ]
  },
  {
   "cell_type": "markdown",
   "metadata": {},
   "source": [
    "# Import all the necessary libraries for Models\n",
    "We need to import the following libraries from sklearn\n",
    "      \n",
    "      --> LinearRegression\n",
    "\n",
    " Import the test split function for spliting the training data from the test data\n",
    "      --> train_test_split"
   ]
  },
  {
   "cell_type": "code",
   "execution_count": 2,
   "metadata": {},
   "outputs": [],
   "source": [
    "from sklearn.linear_model import LinearRegression,Lasso,Ridge,SGDRegressor\n",
    "from sklearn.model_selection import train_test_split"
   ]
  },
  {
   "cell_type": "markdown",
   "metadata": {},
   "source": [
    "## Import pandas library for data manipulation"
   ]
  },
  {
   "cell_type": "code",
   "execution_count": 3,
   "metadata": {},
   "outputs": [],
   "source": [
    "import pandas as pd"
   ]
  },
  {
   "cell_type": "markdown",
   "metadata": {},
   "source": [
    "# Step 2: Load the dataset to the platform"
   ]
  },
  {
   "cell_type": "markdown",
   "metadata": {},
   "source": [
    "The Pandas library has an easy way to load in data, read_csv():"
   ]
  },
  {
   "cell_type": "code",
   "execution_count": 4,
   "metadata": {},
   "outputs": [],
   "source": [
    "phoneprice = pd.read_csv(\"datasets/PhonesPriceInKenya.csv\")"
   ]
  },
  {
   "cell_type": "markdown",
   "metadata": {},
   "source": [
    "In order to view the data, how they are arranged we can use the head() function which shows the first 5 rows of data. To see the last five we use iris.head(-5)"
   ]
  },
  {
   "cell_type": "code",
   "execution_count": 5,
   "metadata": {},
   "outputs": [
    {
     "data": {
      "text/html": [
       "<div>\n",
       "<style scoped>\n",
       "    .dataframe tbody tr th:only-of-type {\n",
       "        vertical-align: middle;\n",
       "    }\n",
       "\n",
       "    .dataframe tbody tr th {\n",
       "        vertical-align: top;\n",
       "    }\n",
       "\n",
       "    .dataframe thead th {\n",
       "        text-align: right;\n",
       "    }\n",
       "</style>\n",
       "<table border=\"1\" class=\"dataframe\">\n",
       "  <thead>\n",
       "    <tr style=\"text-align: right;\">\n",
       "      <th></th>\n",
       "      <th>Phone Title</th>\n",
       "      <th>Specs</th>\n",
       "      <th>Price(Kshs)</th>\n",
       "      <th>Rating</th>\n",
       "      <th>Specs Score</th>\n",
       "      <th>Likes</th>\n",
       "    </tr>\n",
       "  </thead>\n",
       "  <tbody>\n",
       "    <tr>\n",
       "      <th>0</th>\n",
       "      <td>Gionee M7 Power</td>\n",
       "      <td>Screen:6.0 inches, 720 x 1440 pixels,Front Cam...</td>\n",
       "      <td>11,800</td>\n",
       "      <td>4.0</td>\n",
       "      <td>56%</td>\n",
       "      <td>13</td>\n",
       "    </tr>\n",
       "    <tr>\n",
       "      <th>1</th>\n",
       "      <td>Gionee M7</td>\n",
       "      <td>Screen:6.01 inches, 1080 x 2160 pixels,Front C...</td>\n",
       "      <td>7,999</td>\n",
       "      <td>4.5</td>\n",
       "      <td>69%</td>\n",
       "      <td>8</td>\n",
       "    </tr>\n",
       "    <tr>\n",
       "      <th>2</th>\n",
       "      <td>Samsung Galaxy M21 6GB128GB</td>\n",
       "      <td>Screen:6.4 inches, 1080 x 2340 pixels,Front Ca...</td>\n",
       "      <td>22,590</td>\n",
       "      <td>4.3</td>\n",
       "      <td>100%</td>\n",
       "      <td>30</td>\n",
       "    </tr>\n",
       "    <tr>\n",
       "      <th>3</th>\n",
       "      <td>Samsung Galaxy M21 4GB64GB</td>\n",
       "      <td>Screen:6.4 inches, 1080 x 2340 pixels,Front Ca...</td>\n",
       "      <td>22,499</td>\n",
       "      <td>3.8</td>\n",
       "      <td>94%</td>\n",
       "      <td>31</td>\n",
       "    </tr>\n",
       "    <tr>\n",
       "      <th>4</th>\n",
       "      <td>Samsung Galaxy A31 6GB128GB</td>\n",
       "      <td>Screen:6.4 inches, 1080 x 2400 pixels,Front Ca...</td>\n",
       "      <td>24,999</td>\n",
       "      <td>3.8</td>\n",
       "      <td>98%</td>\n",
       "      <td>31</td>\n",
       "    </tr>\n",
       "  </tbody>\n",
       "</table>\n",
       "</div>"
      ],
      "text/plain": [
       "                   Phone Title  \\\n",
       "0              Gionee M7 Power   \n",
       "1                    Gionee M7   \n",
       "2  Samsung Galaxy M21 6GB128GB   \n",
       "3   Samsung Galaxy M21 4GB64GB   \n",
       "4  Samsung Galaxy A31 6GB128GB   \n",
       "\n",
       "                                               Specs Price(Kshs)  Rating  \\\n",
       "0  Screen:6.0 inches, 720 x 1440 pixels,Front Cam...      11,800     4.0   \n",
       "1  Screen:6.01 inches, 1080 x 2160 pixels,Front C...       7,999     4.5   \n",
       "2  Screen:6.4 inches, 1080 x 2340 pixels,Front Ca...      22,590     4.3   \n",
       "3  Screen:6.4 inches, 1080 x 2340 pixels,Front Ca...      22,499     3.8   \n",
       "4  Screen:6.4 inches, 1080 x 2400 pixels,Front Ca...      24,999     3.8   \n",
       "\n",
       "  Specs Score  Likes  \n",
       "0         56%     13  \n",
       "1         69%      8  \n",
       "2        100%     30  \n",
       "3         94%     31  \n",
       "4         98%     31  "
      ]
     },
     "execution_count": 5,
     "metadata": {},
     "output_type": "execute_result"
    }
   ],
   "source": [
    "phoneprice.head()"
   ]
  },
  {
   "cell_type": "markdown",
   "metadata": {},
   "source": [
    "## Step2: Preprocessing and Data Cleaning \n",
    "This data has comma separator in the **Price(Kshs)** and % sign in the **Specs Score** which is not regognized as interger,rather the dataframe sees the entry as a string. We use DataFrame.replace with regex=True for substrings replacement\n",
    "1)We need to remove all the commas from the **Price(Kshs)**  \n",
    "\n",
    "2)Remove the % sign from **Specs Score**"
   ]
  },
  {
   "cell_type": "code",
   "execution_count": 6,
   "metadata": {},
   "outputs": [
    {
     "data": {
      "text/html": [
       "<div>\n",
       "<style scoped>\n",
       "    .dataframe tbody tr th:only-of-type {\n",
       "        vertical-align: middle;\n",
       "    }\n",
       "\n",
       "    .dataframe tbody tr th {\n",
       "        vertical-align: top;\n",
       "    }\n",
       "\n",
       "    .dataframe thead th {\n",
       "        text-align: right;\n",
       "    }\n",
       "</style>\n",
       "<table border=\"1\" class=\"dataframe\">\n",
       "  <thead>\n",
       "    <tr style=\"text-align: right;\">\n",
       "      <th></th>\n",
       "      <th>Phone Title</th>\n",
       "      <th>Specs</th>\n",
       "      <th>Price(Kshs)</th>\n",
       "      <th>Rating</th>\n",
       "      <th>Specs Score</th>\n",
       "      <th>Likes</th>\n",
       "    </tr>\n",
       "  </thead>\n",
       "  <tbody>\n",
       "    <tr>\n",
       "      <th>0</th>\n",
       "      <td>Gionee M7 Power</td>\n",
       "      <td>Screen:6.0 inches, 720 x 1440 pixels,Front Cam...</td>\n",
       "      <td>11800</td>\n",
       "      <td>4.0</td>\n",
       "      <td>56</td>\n",
       "      <td>13</td>\n",
       "    </tr>\n",
       "    <tr>\n",
       "      <th>1</th>\n",
       "      <td>Gionee M7</td>\n",
       "      <td>Screen:6.01 inches, 1080 x 2160 pixels,Front C...</td>\n",
       "      <td>7999</td>\n",
       "      <td>4.5</td>\n",
       "      <td>69</td>\n",
       "      <td>8</td>\n",
       "    </tr>\n",
       "    <tr>\n",
       "      <th>2</th>\n",
       "      <td>Samsung Galaxy M21 6GB128GB</td>\n",
       "      <td>Screen:6.4 inches, 1080 x 2340 pixels,Front Ca...</td>\n",
       "      <td>22590</td>\n",
       "      <td>4.3</td>\n",
       "      <td>100</td>\n",
       "      <td>30</td>\n",
       "    </tr>\n",
       "    <tr>\n",
       "      <th>3</th>\n",
       "      <td>Samsung Galaxy M21 4GB64GB</td>\n",
       "      <td>Screen:6.4 inches, 1080 x 2340 pixels,Front Ca...</td>\n",
       "      <td>22499</td>\n",
       "      <td>3.8</td>\n",
       "      <td>94</td>\n",
       "      <td>31</td>\n",
       "    </tr>\n",
       "    <tr>\n",
       "      <th>4</th>\n",
       "      <td>Samsung Galaxy A31 6GB128GB</td>\n",
       "      <td>Screen:6.4 inches, 1080 x 2400 pixels,Front Ca...</td>\n",
       "      <td>24999</td>\n",
       "      <td>3.8</td>\n",
       "      <td>98</td>\n",
       "      <td>31</td>\n",
       "    </tr>\n",
       "    <tr>\n",
       "      <th>...</th>\n",
       "      <td>...</td>\n",
       "      <td>...</td>\n",
       "      <td>...</td>\n",
       "      <td>...</td>\n",
       "      <td>...</td>\n",
       "      <td>...</td>\n",
       "    </tr>\n",
       "    <tr>\n",
       "      <th>1143</th>\n",
       "      <td>Nokia 105 2019</td>\n",
       "      <td>Screen:1.77 inches, 120 x 160 pixels,Front Cam...</td>\n",
       "      <td>1900</td>\n",
       "      <td>3.0</td>\n",
       "      <td>8</td>\n",
       "      <td>11</td>\n",
       "    </tr>\n",
       "    <tr>\n",
       "      <th>1144</th>\n",
       "      <td>Nokia 220 4G</td>\n",
       "      <td>Screen:2.4 inches, 240 x 320 pixels,Front Came...</td>\n",
       "      <td>NaN</td>\n",
       "      <td>4.0</td>\n",
       "      <td>11</td>\n",
       "      <td>8</td>\n",
       "    </tr>\n",
       "    <tr>\n",
       "      <th>1145</th>\n",
       "      <td>Nokia X71</td>\n",
       "      <td>Screen:6.39 inches, 1080 x 2316 pixels,Front C...</td>\n",
       "      <td>NaN</td>\n",
       "      <td>3.0</td>\n",
       "      <td>93</td>\n",
       "      <td>53</td>\n",
       "    </tr>\n",
       "    <tr>\n",
       "      <th>1146</th>\n",
       "      <td>Nokia 22 3GB32GB</td>\n",
       "      <td>Screen:5.71 inches, 720 x 1520 pixels,Front Ca...</td>\n",
       "      <td>NaN</td>\n",
       "      <td>3.4</td>\n",
       "      <td>47</td>\n",
       "      <td>50</td>\n",
       "    </tr>\n",
       "    <tr>\n",
       "      <th>1147</th>\n",
       "      <td>Nokia 22 2GB16GB</td>\n",
       "      <td>Screen:5.71 inches, 720 x 1520 pixels,Front Ca...</td>\n",
       "      <td>9500</td>\n",
       "      <td>3.9</td>\n",
       "      <td>45</td>\n",
       "      <td>39</td>\n",
       "    </tr>\n",
       "  </tbody>\n",
       "</table>\n",
       "<p>1148 rows × 6 columns</p>\n",
       "</div>"
      ],
      "text/plain": [
       "                      Phone Title  \\\n",
       "0                 Gionee M7 Power   \n",
       "1                       Gionee M7   \n",
       "2     Samsung Galaxy M21 6GB128GB   \n",
       "3      Samsung Galaxy M21 4GB64GB   \n",
       "4     Samsung Galaxy A31 6GB128GB   \n",
       "...                           ...   \n",
       "1143               Nokia 105 2019   \n",
       "1144                 Nokia 220 4G   \n",
       "1145                    Nokia X71   \n",
       "1146             Nokia 22 3GB32GB   \n",
       "1147             Nokia 22 2GB16GB   \n",
       "\n",
       "                                                  Specs Price(Kshs)  Rating  \\\n",
       "0     Screen:6.0 inches, 720 x 1440 pixels,Front Cam...       11800     4.0   \n",
       "1     Screen:6.01 inches, 1080 x 2160 pixels,Front C...        7999     4.5   \n",
       "2     Screen:6.4 inches, 1080 x 2340 pixels,Front Ca...       22590     4.3   \n",
       "3     Screen:6.4 inches, 1080 x 2340 pixels,Front Ca...       22499     3.8   \n",
       "4     Screen:6.4 inches, 1080 x 2400 pixels,Front Ca...       24999     3.8   \n",
       "...                                                 ...         ...     ...   \n",
       "1143  Screen:1.77 inches, 120 x 160 pixels,Front Cam...        1900     3.0   \n",
       "1144  Screen:2.4 inches, 240 x 320 pixels,Front Came...         NaN     4.0   \n",
       "1145  Screen:6.39 inches, 1080 x 2316 pixels,Front C...         NaN     3.0   \n",
       "1146  Screen:5.71 inches, 720 x 1520 pixels,Front Ca...         NaN     3.4   \n",
       "1147  Screen:5.71 inches, 720 x 1520 pixels,Front Ca...        9500     3.9   \n",
       "\n",
       "     Specs Score  Likes  \n",
       "0             56     13  \n",
       "1             69      8  \n",
       "2            100     30  \n",
       "3             94     31  \n",
       "4             98     31  \n",
       "...          ...    ...  \n",
       "1143           8     11  \n",
       "1144          11      8  \n",
       "1145          93     53  \n",
       "1146          47     50  \n",
       "1147          45     39  \n",
       "\n",
       "[1148 rows x 6 columns]"
      ]
     },
     "execution_count": 6,
     "metadata": {},
     "output_type": "execute_result"
    }
   ],
   "source": [
    "phoneprice['Price(Kshs)'] = phoneprice['Price(Kshs)'].replace(',','', regex=True)\n",
    "phoneprice['Specs Score'] = phoneprice['Specs Score'].replace('%','', regex=True)\n",
    "phoneprice"
   ]
  },
  {
   "cell_type": "markdown",
   "metadata": {},
   "source": [
    "select all rows with NaN values in Pandas DataFrame  Using isnull() to select all rows with NaN under a single DataFrame column"
   ]
  },
  {
   "cell_type": "code",
   "execution_count": 7,
   "metadata": {},
   "outputs": [
    {
     "data": {
      "text/plain": [
       "Phone Title    78\n",
       "Specs          78\n",
       "Price(Kshs)     0\n",
       "Rating         78\n",
       "Specs Score    78\n",
       "Likes          78\n",
       "dtype: int64"
      ]
     },
     "execution_count": 7,
     "metadata": {},
     "output_type": "execute_result"
    }
   ],
   "source": [
    "phoneprice[phoneprice['Price(Kshs)'].isnull()].count()"
   ]
  },
  {
   "cell_type": "markdown",
   "metadata": {},
   "source": [
    "Convert all the numeric series to float datatype. This is to avoid situations that the entries are read as string"
   ]
  },
  {
   "cell_type": "code",
   "execution_count": 8,
   "metadata": {},
   "outputs": [],
   "source": [
    "all_numeric_series = ['Price(Kshs)','Rating','Specs Score','Likes']\n",
    "phoneprice[all_numeric_series] = phoneprice[all_numeric_series].astype(float)"
   ]
  },
  {
   "cell_type": "markdown",
   "metadata": {},
   "source": [
    "Find the mean of the enries and use it to fill the NAN entries"
   ]
  },
  {
   "cell_type": "code",
   "execution_count": 9,
   "metadata": {},
   "outputs": [
    {
     "data": {
      "text/plain": [
       "Price(Kshs)    20453.197196\n",
       "Rating             3.934408\n",
       "Specs Score       67.733449\n",
       "Likes             25.145470\n",
       "dtype: float64"
      ]
     },
     "execution_count": 9,
     "metadata": {},
     "output_type": "execute_result"
    }
   ],
   "source": [
    "mean_value_for_all = phoneprice[all_numeric_series].mean()\n",
    "mean_value_for_all"
   ]
  },
  {
   "cell_type": "code",
   "execution_count": 10,
   "metadata": {},
   "outputs": [
    {
     "data": {
      "text/plain": [
       "Phone Title    False\n",
       "Specs          False\n",
       "Price(Kshs)    False\n",
       "Rating         False\n",
       "Specs Score    False\n",
       "Likes          False\n",
       "dtype: bool"
      ]
     },
     "execution_count": 10,
     "metadata": {},
     "output_type": "execute_result"
    }
   ],
   "source": [
    "[phoneprice.fillna(value=mean_value_for_all, inplace=True)]\n",
    "phoneprice.isna().any() # Check if there are any null values"
   ]
  },
  {
   "cell_type": "markdown",
   "metadata": {},
   "source": []
  },
  {
   "cell_type": "markdown",
   "metadata": {},
   "source": [
    "Check the statistics of the dataset with the **describe()** function e.g the mean, max etc"
   ]
  },
  {
   "cell_type": "code",
   "execution_count": 11,
   "metadata": {},
   "outputs": [
    {
     "data": {
      "text/html": [
       "<div>\n",
       "<style scoped>\n",
       "    .dataframe tbody tr th:only-of-type {\n",
       "        vertical-align: middle;\n",
       "    }\n",
       "\n",
       "    .dataframe tbody tr th {\n",
       "        vertical-align: top;\n",
       "    }\n",
       "\n",
       "    .dataframe thead th {\n",
       "        text-align: right;\n",
       "    }\n",
       "</style>\n",
       "<table border=\"1\" class=\"dataframe\">\n",
       "  <thead>\n",
       "    <tr style=\"text-align: right;\">\n",
       "      <th></th>\n",
       "      <th>Price(Kshs)</th>\n",
       "      <th>Rating</th>\n",
       "      <th>Specs Score</th>\n",
       "      <th>Likes</th>\n",
       "    </tr>\n",
       "  </thead>\n",
       "  <tbody>\n",
       "    <tr>\n",
       "      <th>count</th>\n",
       "      <td>1148.000000</td>\n",
       "      <td>1148.000000</td>\n",
       "      <td>1148.000000</td>\n",
       "      <td>1148.000000</td>\n",
       "    </tr>\n",
       "    <tr>\n",
       "      <th>mean</th>\n",
       "      <td>20453.197196</td>\n",
       "      <td>3.934408</td>\n",
       "      <td>67.733449</td>\n",
       "      <td>25.145470</td>\n",
       "    </tr>\n",
       "    <tr>\n",
       "      <th>std</th>\n",
       "      <td>26479.611414</td>\n",
       "      <td>0.757267</td>\n",
       "      <td>22.359441</td>\n",
       "      <td>32.155663</td>\n",
       "    </tr>\n",
       "    <tr>\n",
       "      <th>min</th>\n",
       "      <td>84.000000</td>\n",
       "      <td>1.300000</td>\n",
       "      <td>8.000000</td>\n",
       "      <td>1.000000</td>\n",
       "    </tr>\n",
       "    <tr>\n",
       "      <th>25%</th>\n",
       "      <td>1664.750000</td>\n",
       "      <td>3.400000</td>\n",
       "      <td>52.000000</td>\n",
       "      <td>7.000000</td>\n",
       "    </tr>\n",
       "    <tr>\n",
       "      <th>50%</th>\n",
       "      <td>13189.500000</td>\n",
       "      <td>4.000000</td>\n",
       "      <td>62.000000</td>\n",
       "      <td>14.000000</td>\n",
       "    </tr>\n",
       "    <tr>\n",
       "      <th>75%</th>\n",
       "      <td>24124.750000</td>\n",
       "      <td>4.500000</td>\n",
       "      <td>92.000000</td>\n",
       "      <td>29.250000</td>\n",
       "    </tr>\n",
       "    <tr>\n",
       "      <th>max</th>\n",
       "      <td>170000.000000</td>\n",
       "      <td>5.000000</td>\n",
       "      <td>100.000000</td>\n",
       "      <td>296.000000</td>\n",
       "    </tr>\n",
       "  </tbody>\n",
       "</table>\n",
       "</div>"
      ],
      "text/plain": [
       "         Price(Kshs)       Rating  Specs Score        Likes\n",
       "count    1148.000000  1148.000000  1148.000000  1148.000000\n",
       "mean    20453.197196     3.934408    67.733449    25.145470\n",
       "std     26479.611414     0.757267    22.359441    32.155663\n",
       "min        84.000000     1.300000     8.000000     1.000000\n",
       "25%      1664.750000     3.400000    52.000000     7.000000\n",
       "50%     13189.500000     4.000000    62.000000    14.000000\n",
       "75%     24124.750000     4.500000    92.000000    29.250000\n",
       "max    170000.000000     5.000000   100.000000   296.000000"
      ]
     },
     "execution_count": 11,
     "metadata": {},
     "output_type": "execute_result"
    }
   ],
   "source": [
    "phoneprice.describe()"
   ]
  },
  {
   "cell_type": "markdown",
   "metadata": {},
   "source": [
    "\n",
    "# Step 3: Define the inputs and outputs"
   ]
  },
  {
   "cell_type": "markdown",
   "metadata": {},
   "source": [
    "We now need to define the **features(inputs** and **labels(outputs)**. We can do this easily with pandas by slicing the data table and choosing certain rows/columns.\n",
    "\n",
    "**input/features** are those characteristics of the data that determines the class that they belong e.g color, lenght, weight etc\n",
    "\n",
    "**output** is the class that they belong e.g positive/negative, 0/1, hot/cold, present/absent etc\n",
    "\n",
    "You can achieve this by naming all the column names within a double square parenthesis.\n",
    "\n",
    "Another way to do this using **iloc()**\n"
   ]
  },
  {
   "cell_type": "code",
   "execution_count": 12,
   "metadata": {},
   "outputs": [],
   "source": [
    "# Let's tell the dataframe which column we want for the imputs/features.  \n",
    "X = phoneprice[['Rating','Specs Score','Likes']]\n",
    "\n",
    "# Let's tell the dataframe which column we want for the target/labels/output.  \n",
    "y = phoneprice['Price(Kshs)']"
   ]
  },
  {
   "cell_type": "code",
   "execution_count": 13,
   "metadata": {},
   "outputs": [
    {
     "data": {
      "text/html": [
       "<div>\n",
       "<style scoped>\n",
       "    .dataframe tbody tr th:only-of-type {\n",
       "        vertical-align: middle;\n",
       "    }\n",
       "\n",
       "    .dataframe tbody tr th {\n",
       "        vertical-align: top;\n",
       "    }\n",
       "\n",
       "    .dataframe thead th {\n",
       "        text-align: right;\n",
       "    }\n",
       "</style>\n",
       "<table border=\"1\" class=\"dataframe\">\n",
       "  <thead>\n",
       "    <tr style=\"text-align: right;\">\n",
       "      <th></th>\n",
       "      <th>Rating</th>\n",
       "      <th>Specs Score</th>\n",
       "      <th>Likes</th>\n",
       "    </tr>\n",
       "  </thead>\n",
       "  <tbody>\n",
       "    <tr>\n",
       "      <th>0</th>\n",
       "      <td>4.0</td>\n",
       "      <td>56.0</td>\n",
       "      <td>13.0</td>\n",
       "    </tr>\n",
       "    <tr>\n",
       "      <th>1</th>\n",
       "      <td>4.5</td>\n",
       "      <td>69.0</td>\n",
       "      <td>8.0</td>\n",
       "    </tr>\n",
       "    <tr>\n",
       "      <th>2</th>\n",
       "      <td>4.3</td>\n",
       "      <td>100.0</td>\n",
       "      <td>30.0</td>\n",
       "    </tr>\n",
       "    <tr>\n",
       "      <th>3</th>\n",
       "      <td>3.8</td>\n",
       "      <td>94.0</td>\n",
       "      <td>31.0</td>\n",
       "    </tr>\n",
       "    <tr>\n",
       "      <th>4</th>\n",
       "      <td>3.8</td>\n",
       "      <td>98.0</td>\n",
       "      <td>31.0</td>\n",
       "    </tr>\n",
       "  </tbody>\n",
       "</table>\n",
       "</div>"
      ],
      "text/plain": [
       "   Rating  Specs Score  Likes\n",
       "0     4.0         56.0   13.0\n",
       "1     4.5         69.0    8.0\n",
       "2     4.3        100.0   30.0\n",
       "3     3.8         94.0   31.0\n",
       "4     3.8         98.0   31.0"
      ]
     },
     "execution_count": 13,
     "metadata": {},
     "output_type": "execute_result"
    }
   ],
   "source": [
    "X.head()"
   ]
  },
  {
   "cell_type": "markdown",
   "metadata": {},
   "source": [
    "# Step 4: Split the data to training and testing sets. \n",
    "Remember the default percentage is 80% for training and 20% for testing but you can change the percentages using test_size"
   ]
  },
  {
   "cell_type": "markdown",
   "metadata": {},
   "source": [
    "Assign the split data into diffent arrays"
   ]
  },
  {
   "cell_type": "code",
   "execution_count": 14,
   "metadata": {},
   "outputs": [],
   "source": [
    "X_train, X_test, y_train, y_test = train_test_split(X, y,test_size=0.2,random_state=42)"
   ]
  },
  {
   "cell_type": "markdown",
   "metadata": {},
   "source": [
    "# Step 5: Apply the model"
   ]
  },
  {
   "cell_type": "code",
   "execution_count": 15,
   "metadata": {},
   "outputs": [],
   "source": [
    "regressor = LinearRegression()\n",
    "lasso = Lasso(alpha=0.1)\n",
    "ridge = Ridge(alpha=.5)\n",
    "SGD = SGDRegressor()"
   ]
  },
  {
   "cell_type": "code",
   "execution_count": 16,
   "metadata": {},
   "outputs": [
    {
     "data": {
      "text/plain": [
       "SGDRegressor()"
      ]
     },
     "execution_count": 16,
     "metadata": {},
     "output_type": "execute_result"
    }
   ],
   "source": [
    "# Fit the model to the training data \n",
    "regressor.fit(X_train, y_train) \n",
    "lasso.fit(X_train, y_train) \n",
    "ridge.fit(X_train, y_train) \n",
    "SGD.fit(X_train, y_train)"
   ]
  },
  {
   "cell_type": "code",
   "execution_count": 17,
   "metadata": {},
   "outputs": [],
   "source": [
    "# Make the prediction\n",
    "y_prediction_Linear = regressor.predict(X_test)\n",
    "y_prediction_Lasso = lasso.predict(X_test)\n",
    "y_prediction_Ridge = ridge.predict(X_test)\n",
    "y_prediction_SGD = SGD.predict(X_test)"
   ]
  },
  {
   "cell_type": "markdown",
   "metadata": {},
   "source": [
    "# Step 6: Metrics and Scores\n",
    "\n",
    "There are a number of metrics that can be used to measure the perfomance of a model depending on the type c.f https://scikit-learn.org/stable/modules/model_evaluation.html\n",
    "\n",
    "Regression model can be measured using several tools, we are going to use only three namely:\n",
    "    \n",
    "    1)Mean Absolute Error(MAE)\n",
    "    2)Root Mean Square Error(RMSE)\n",
    "    3)$R^2$ score: — the proportion of variance in y that can be explained by X\n"
   ]
  },
  {
   "cell_type": "code",
   "execution_count": 18,
   "metadata": {},
   "outputs": [],
   "source": [
    "from sklearn.metrics import mean_absolute_error,mean_squared_error,r2_score"
   ]
  },
  {
   "cell_type": "code",
   "execution_count": 19,
   "metadata": {},
   "outputs": [],
   "source": [
    "#confusion matrix\n",
    "def prediction_metrics(y_test, y_pred, plt_title=None):\n",
    "    #mean_absolute_error test\n",
    "    mae = mean_absolute_error(y_test, y_pred)\n",
    "    #mean squared test\n",
    "    mse = np.sqrt(mean_squared_error(y_test, y_pred))\n",
    "    # r2  test\n",
    "    r_2 = r2_score(y_test, y_pred)\n",
    "    return mae, mse,r_2"
   ]
  },
  {
   "cell_type": "code",
   "execution_count": 20,
   "metadata": {},
   "outputs": [
    {
     "name": "stdout",
     "output_type": "stream",
     "text": [
      "mean absolute | mean squared | r2 score  \n",
      "['16693.14096', '26377.75691', '0.01226']\n"
     ]
    }
   ],
   "source": [
    "scores=prediction_metrics(y_test, y_prediction_Linear)\n",
    "print('mean absolute | mean squared | r2 score  ')\n",
    "print([ '%.5f' % elem for elem in scores ])"
   ]
  },
  {
   "cell_type": "code",
   "execution_count": 21,
   "metadata": {},
   "outputs": [
    {
     "name": "stdout",
     "output_type": "stream",
     "text": [
      "mean absolute | mean squared | r2 score  \n",
      "['16693.14072', '26377.75375', '0.01226']\n"
     ]
    }
   ],
   "source": [
    "scores=prediction_metrics(y_test, y_prediction_Lasso)\n",
    "print('mean absolute | mean squared | r2 score  ')\n",
    "print([ '%.5f' % elem for elem in scores ])"
   ]
  },
  {
   "cell_type": "code",
   "execution_count": 22,
   "metadata": {},
   "outputs": [
    {
     "name": "stdout",
     "output_type": "stream",
     "text": [
      "mean absolute | mean squared | r2 score  \n",
      "['16693.14127', '26377.75251', '0.01226']\n"
     ]
    }
   ],
   "source": [
    "scores=prediction_metrics(y_test, y_prediction_Ridge)\n",
    "print('mean absolute | mean squared | r2 score  ')\n",
    "print([ '%.5f' % elem for elem in scores ])"
   ]
  },
  {
   "cell_type": "code",
   "execution_count": 23,
   "metadata": {},
   "outputs": [
    {
     "name": "stdout",
     "output_type": "stream",
     "text": [
      "mean absolute | mean squared | r2 score  \n",
      "['1380039745845.40210', '2547875798839.62158', '-9215586357581060.00000']\n"
     ]
    }
   ],
   "source": [
    "\n",
    "scores=prediction_metrics(y_test, y_prediction_SGD)\n",
    "print('mean absolute | mean squared | r2 score  ')\n",
    "print([ '%.5f' % elem for elem in scores ])"
   ]
  },
  {
   "cell_type": "markdown",
   "metadata": {},
   "source": [
    "# Step 7: Get the statistics of the predicted values"
   ]
  },
  {
   "cell_type": "code",
   "execution_count": 24,
   "metadata": {},
   "outputs": [],
   "source": [
    "#Convert the array to pandas series\n",
    "prediction_pd = pd.Series(y_prediction_Linear)"
   ]
  },
  {
   "cell_type": "code",
   "execution_count": 25,
   "metadata": {},
   "outputs": [
    {
     "data": {
      "text/plain": [
       "count      230.000000\n",
       "mean     20715.778923\n",
       "std       4451.440596\n",
       "min       8031.021329\n",
       "25%      17829.441202\n",
       "50%      19745.545467\n",
       "75%      25683.709244\n",
       "max      30211.489180\n",
       "dtype: float64"
      ]
     },
     "execution_count": 25,
     "metadata": {},
     "output_type": "execute_result"
    }
   ],
   "source": [
    "prediction_pd.describe()"
   ]
  },
  {
   "cell_type": "markdown",
   "metadata": {},
   "source": [
    "## Step 8:  Display the rgeression model plot for the predicted data"
   ]
  },
  {
   "cell_type": "code",
   "execution_count": 26,
   "metadata": {},
   "outputs": [],
   "source": [
    "import seaborn as sns"
   ]
  },
  {
   "cell_type": "code",
   "execution_count": 27,
   "metadata": {},
   "outputs": [
    {
     "data": {
      "image/png": "[encoded data removed]",
      "text/plain": [
       "<Figure size 640x480 with 1 Axes>"
      ]
     },
     "metadata": {},
     "output_type": "display_data"
    }
   ],
   "source": [
    "#Plot the price against the Specs Score\n",
    "ax = sns.regplot(data=X, x=X_test['Specs Score'],y=y_prediction_Linear,fit_reg=True)\n",
    "ax.set(xlabel='Specs Score', ylabel='Price(Kshs)')\n",
    "ax.set(title = f'Regression Model for the Mobile price vs Specs Score')\n",
    "plt.show()"
   ]
  },
  {
   "cell_type": "code",
   "execution_count": null,
   "metadata": {},
   "outputs": [],
   "source": []
  },
  {
   "cell_type": "markdown",
   "metadata": {},
   "source": [
    "# Step 9: Make the model interactive"
   ]
  },
  {
   "cell_type": "raw",
   "metadata": {},
   "source": [
    "Rating,SpecsScore,Likes = input('Enter the ratings, specs score and likes ').split(',')\n",
    "Rating,SpecsScore,Likes = list(map(float, [Rating,SpecsScore,Likes]))"
   ]
  },
  {
   "cell_type": "raw",
   "metadata": {},
   "source": [
    "my_price = int(regressor.predict([[Rating,SpecsScore,Likes]]))\n",
    "print(my_price)"
   ]
  },
  {
   "cell_type": "code",
   "execution_count": null,
   "metadata": {},
   "outputs": [],
   "source": []
  }
 ],
 "metadata": {
  "kernelspec": {
   "display_name": "Python 3 (ipykernel)",
   "language": "python",
   "name": "python3"
  },
  "language_info": {
   "codemirror_mode": {
    "name": "ipython",
    "version": 3
   },
   "file_extension": ".py",
   "mimetype": "text/x-python",
   "name": "python",
   "nbconvert_exporter": "python",
   "pygments_lexer": "ipython3",
   "version": "3.9.13"
  }
 },
 "nbformat": 4,
 "nbformat_minor": 2
}
